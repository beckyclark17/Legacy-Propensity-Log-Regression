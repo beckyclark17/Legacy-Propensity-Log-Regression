{
 "cells": [
  {
   "cell_type": "markdown",
   "metadata": {},
   "source": [
    "### Re-building the legacy propsensity model  (Jul'17)\n",
    "\n",
    "I am using the same variables prepared for the 2016 analysis (excluded some variables that weren't powerful)   \n",
    "The purpose of this rebuild is to;  \n",
    "- move the analysis to Python  \n",
    "- use the techniques and evaluation learnt from the Data Science course\n",
    "- consider how the model might perform without Mosaic"
   ]
  },
  {
   "cell_type": "code",
   "execution_count": 1,
   "metadata": {
    "collapsed": true
   },
   "outputs": [],
   "source": [
    "import pypyodbc , pandas as pd ## I ran \"pip install pypyodbc\" from the command line \n",
    "import matplotlib.pyplot as plt\n",
    "import seaborn as sns \n",
    "import numpy as np \n",
    "%matplotlib inline \n",
    "\n",
    "pd.options.mode.chained_assignment = None  # default='warn', this turns off warnings about slicing data "
   ]
  },
  {
   "cell_type": "markdown",
   "metadata": {},
   "source": [
    "### Importing data sample of deceased supporters which outcome - left a legacy or not."
   ]
  },
  {
   "cell_type": "code",
   "execution_count": 2,
   "metadata": {
    "collapsed": true
   },
   "outputs": [],
   "source": [
    "# Importing data\n",
    "connection = pypyodbc.connect('Driver={SQL Server};'\n",
    "                              'Server= INSERT SERVER NAME;'\n",
    "                              'Database = analystdata;'\n",
    "                              'Trusted_Connection=yes;')\n",
    "cursor = connection.cursor()"
   ]
  },
  {
   "cell_type": "code",
   "execution_count": 3,
   "metadata": {
    "collapsed": false
   },
   "outputs": [],
   "source": [
    "## analysing deceased supporters, who did/ didnt leave a legacy?\n",
    "SQLCommand = (\"select * from analystData.dbo.k049_legacyModel where deceasedFlag =1\") \n",
    "cursor.execute(SQLCommand) \n",
    "\n",
    "columns = [column[0] for column in cursor.description]\n",
    "data= cursor.fetchall()\n",
    "\n",
    "for i in range(0,len(data)):\n",
    "    data[i]=tuple(data[i])\n",
    "    \n",
    "df_orig = pd.DataFrame(data, columns = columns)\n",
    "connection.close()"
   ]
  },
  {
   "cell_type": "code",
   "execution_count": 4,
   "metadata": {
    "collapsed": false
   },
   "outputs": [
    {
     "data": {
      "text/plain": [
       "legatorflag\n",
       "0    76946\n",
       "1     1325\n",
       "Name: idcontact, dtype: int64"
      ]
     },
     "execution_count": 4,
     "metadata": {},
     "output_type": "execute_result"
    }
   ],
   "source": [
    "df_orig.head(1)\n",
    "# pd.crosstab(\n",
    "df_orig['idcontact'].groupby(df_orig.legatorflag).count()"
   ]
  },
  {
   "cell_type": "markdown",
   "metadata": {},
   "source": [
    "**1.7% of supporters leave a legacy **"
   ]
  },
  {
   "cell_type": "code",
   "execution_count": 4,
   "metadata": {
    "collapsed": false
   },
   "outputs": [
    {
     "name": "stdout",
     "output_type": "stream",
     "text": [
      "title , Type: object , Nulls: 0\n",
      "gender , Type: object , Nulls: 0\n",
      "ukregion , Type: object , Nulls: 121\n",
      "mosaic , Type: object , Nulls: 1221\n",
      "legatorflag , Type: int64 , Nulls: 0\n",
      "legmarketingflag , Type: int64 , Nulls: 0\n",
      "pledgestatus , Type: object , Nulls: 0\n",
      "ltv , Type: object , Nulls: 0\n",
      "giftaidflag , Type: int64 , Nulls: 0\n",
      "emerdonorcount , Type: int64 , Nulls: 0\n",
      "bankoneoffcount , Type: int64 , Nulls: 0\n",
      "bankpledgecount , Type: int64 , Nulls: 0\n",
      "dmflag , Type: int64 , Nulls: 0\n",
      "campaignerflag , Type: int64 , Nulls: 0\n",
      "traderflag , Type: int64 , Nulls: 0\n",
      "landlineflag , Type: int64 , Nulls: 0\n",
      "mobilephoneflag , Type: int64 , Nulls: 0\n"
     ]
    }
   ],
   "source": [
    "#refining the dataset for modelling \n",
    "model = df_orig.drop(['idcontact','contactreference','mosaicname','deceaseddate','age','knownlegatorflag','postcode',\n",
    "                     'firstpaymentdate','lastpaymentdate','pledgeregistrationdate', 'deceasedflag',\n",
    "                      'lastpaymentmethod',\n",
    "                     'dmsegment'], # This would be the latest dmsegment rather than the dmsegment whilst a living supporter\n",
    "                     axis=1) #lastpaymentmethod not populated from sql\n",
    "\n",
    "## How many nulls are there? What are the datatypes?\n",
    "for x in model.columns.values:\n",
    "    print (x,# print variable name \n",
    "           ', Type:', model[x].dtypes, #print data type \n",
    "           ', Nulls:', model[x].isnull().sum()) # print number of nulls "
   ]
  },
  {
   "cell_type": "markdown",
   "metadata": {},
   "source": [
    "**Cleaning up the data ** "
   ]
  },
  {
   "cell_type": "code",
   "execution_count": 5,
   "metadata": {
    "collapsed": false
   },
   "outputs": [],
   "source": [
    "model['ltv'] = model['ltv'].astype(float)\n",
    "\n",
    "for col in ['emerdonorcount','bankoneoffcount','bankpledgecount','ltv']: \n",
    "    model[col] = model[col].fillna(0) \n"
   ]
  },
  {
   "cell_type": "code",
   "execution_count": 22,
   "metadata": {
    "collapsed": false
   },
   "outputs": [
    {
     "data": {
      "image/png": "[encoded data removed]",
      "text/plain": [
       "<matplotlib.figure.Figure at 0x1133ca90>"
      ]
     },
     "metadata": {},
     "output_type": "display_data"
    }
   ],
   "source": [
    "plt.hist(df_orig['age'][df_orig.legatorflag==1][df_orig.age <100], label = 'legator', normed=True)\n",
    "plt.hist(df_orig['age'][df_orig.legatorflag==0][df_orig.age <100], label = 'non-legator',alpha=0.6, normed=True)\n",
    "plt.legend()\n",
    "plt.show()\n",
    "\n",
    "# sns.factorplot('age', 'legatorflag', data=model, kind ='bar')"
   ]
  },
  {
   "cell_type": "markdown",
   "metadata": {},
   "source": [
    "Legators tend to live a little longer...  \n",
    "It occured to me that someones age at death can't be used to predict the likelihood of leaving a legacy (gone back and dropped age from the model dataframe)"
   ]
  },
  {
   "cell_type": "code",
   "execution_count": null,
   "metadata": {
    "collapsed": false
   },
   "outputs": [],
   "source": [
    "sns.factorplot('mosaic', col='legatorflag', data=model[model.legatorflag==1], \n",
    "               kind='count', col_wrap=1,sharey=False, size = 3, aspect =5)\n",
    "\n",
    "sns.factorplot('mosaic', col='legatorflag', data=model[model.legatorflag==0], \n",
    "               kind='count', col_wrap=1,sharey=False, size = 3, aspect =5)\n"
   ]
  },
  {
   "cell_type": "markdown",
   "metadata": {},
   "source": [
    "Cursory glance at the distribution of **mosaic** across legators and non-legators doesn't identify any huge variances.  The blue section appears to contain fewer legators compared to non-legators. "
   ]
  },
  {
   "cell_type": "code",
   "execution_count": 82,
   "metadata": {
    "collapsed": false
   },
   "outputs": [
    {
     "name": "stderr",
     "output_type": "stream",
     "text": [
      "C:\\Users\\BeckyC\\AppData\\Local\\Continuum\\Anaconda3\\lib\\site-packages\\ipykernel\\__main__.py:2: RuntimeWarning: divide by zero encountered in log\n",
      "  from ipykernel import kernelapp as app\n"
     ]
    },
    {
     "data": {
      "text/plain": [
       "<matplotlib.axes._subplots.AxesSubplot at 0xaf65588>"
      ]
     },
     "execution_count": 82,
     "metadata": {},
     "output_type": "execute_result"
    },
    {
     "data": {
      "image/png": "[encoded data removed]",
      "text/plain": [
       "<matplotlib.figure.Figure at 0x28e81e80>"
      ]
     },
     "metadata": {},
     "output_type": "display_data"
    }
   ],
   "source": [
    "##Correlation of continious variables.\n",
    "model['ltv_log'] = np.log(model.ltv) \n",
    "sns.heatmap(model[['legatorflag','emerdonorcount','bankoneoffcount','bankpledgecount','ltv','ltv_log']].corr(),annot=True) \n"
   ]
  },
  {
   "cell_type": "markdown",
   "metadata": {},
   "source": [
    "The data set is largely categorical, except for LTV, emerdonorcount, bankoneoffcount & bankpledgecount  \n",
    "\n",
    "There's **very little correlation between the continuous predictors ** and legatorflag - LTV is correlated the most, with 0.14! Logging the LTV doesn't effect the correlation.\n",
    "There's some evidence of collinearity between bankoneoffcount and emercount, and LTV and bank one-off and pledge counts."
   ]
  },
  {
   "cell_type": "code",
   "execution_count": 83,
   "metadata": {
    "collapsed": false
   },
   "outputs": [
    {
     "data": {
      "text/html": [
       "<div>\n",
       "<table border=\"1\" class=\"dataframe\">\n",
       "  <thead>\n",
       "    <tr style=\"text-align: right;\">\n",
       "      <th></th>\n",
       "      <th>emerdonorcount</th>\n",
       "      <th>bankoneoffcount</th>\n",
       "      <th>bankpledgecount</th>\n",
       "      <th>ltv</th>\n",
       "    </tr>\n",
       "  </thead>\n",
       "  <tbody>\n",
       "    <tr>\n",
       "      <th>count</th>\n",
       "      <td>1325.000000</td>\n",
       "      <td>1325.000000</td>\n",
       "      <td>1325.000000</td>\n",
       "      <td>1325.000000</td>\n",
       "    </tr>\n",
       "    <tr>\n",
       "      <th>mean</th>\n",
       "      <td>5.016604</td>\n",
       "      <td>16.775094</td>\n",
       "      <td>38.886038</td>\n",
       "      <td>1225.270430</td>\n",
       "    </tr>\n",
       "    <tr>\n",
       "      <th>std</th>\n",
       "      <td>10.000893</td>\n",
       "      <td>22.101028</td>\n",
       "      <td>67.652791</td>\n",
       "      <td>3211.031039</td>\n",
       "    </tr>\n",
       "    <tr>\n",
       "      <th>min</th>\n",
       "      <td>0.000000</td>\n",
       "      <td>0.000000</td>\n",
       "      <td>0.000000</td>\n",
       "      <td>0.000000</td>\n",
       "    </tr>\n",
       "    <tr>\n",
       "      <th>25%</th>\n",
       "      <td>0.000000</td>\n",
       "      <td>1.000000</td>\n",
       "      <td>0.000000</td>\n",
       "      <td>20.000000</td>\n",
       "    </tr>\n",
       "    <tr>\n",
       "      <th>50%</th>\n",
       "      <td>2.000000</td>\n",
       "      <td>9.000000</td>\n",
       "      <td>0.000000</td>\n",
       "      <td>454.000000</td>\n",
       "    </tr>\n",
       "    <tr>\n",
       "      <th>75%</th>\n",
       "      <td>7.000000</td>\n",
       "      <td>24.000000</td>\n",
       "      <td>58.000000</td>\n",
       "      <td>1249.550000</td>\n",
       "    </tr>\n",
       "    <tr>\n",
       "      <th>max</th>\n",
       "      <td>124.000000</td>\n",
       "      <td>191.000000</td>\n",
       "      <td>422.000000</td>\n",
       "      <td>57682.210000</td>\n",
       "    </tr>\n",
       "  </tbody>\n",
       "</table>\n",
       "</div>"
      ],
      "text/plain": [
       "       emerdonorcount  bankoneoffcount  bankpledgecount          ltv\n",
       "count     1325.000000      1325.000000      1325.000000  1325.000000\n",
       "mean         5.016604        16.775094        38.886038  1225.270430\n",
       "std         10.000893        22.101028        67.652791  3211.031039\n",
       "min          0.000000         0.000000         0.000000     0.000000\n",
       "25%          0.000000         1.000000         0.000000    20.000000\n",
       "50%          2.000000         9.000000         0.000000   454.000000\n",
       "75%          7.000000        24.000000        58.000000  1249.550000\n",
       "max        124.000000       191.000000       422.000000 57682.210000"
      ]
     },
     "execution_count": 83,
     "metadata": {},
     "output_type": "execute_result"
    }
   ],
   "source": [
    "model[['emerdonorcount','bankoneoffcount','bankpledgecount','ltv']][model.legatorflag==1].describe()"
   ]
  },
  {
   "cell_type": "code",
   "execution_count": 21,
   "metadata": {
    "collapsed": false
   },
   "outputs": [
    {
     "data": {
      "text/html": [
       "<div>\n",
       "<table border=\"1\" class=\"dataframe\">\n",
       "  <thead>\n",
       "    <tr style=\"text-align: right;\">\n",
       "      <th></th>\n",
       "      <th>emerdonorcount</th>\n",
       "      <th>bankoneoffcount</th>\n",
       "      <th>bankpledgecount</th>\n",
       "      <th>ltv</th>\n",
       "    </tr>\n",
       "  </thead>\n",
       "  <tbody>\n",
       "    <tr>\n",
       "      <th>count</th>\n",
       "      <td>76946.000000</td>\n",
       "      <td>76946.00000</td>\n",
       "      <td>76946.000000</td>\n",
       "      <td>76946.000000</td>\n",
       "    </tr>\n",
       "    <tr>\n",
       "      <th>mean</th>\n",
       "      <td>1.688496</td>\n",
       "      <td>5.21840</td>\n",
       "      <td>15.839966</td>\n",
       "      <td>239.200829</td>\n",
       "    </tr>\n",
       "    <tr>\n",
       "      <th>std</th>\n",
       "      <td>6.220252</td>\n",
       "      <td>11.80262</td>\n",
       "      <td>42.067317</td>\n",
       "      <td>778.212741</td>\n",
       "    </tr>\n",
       "    <tr>\n",
       "      <th>min</th>\n",
       "      <td>0.000000</td>\n",
       "      <td>0.00000</td>\n",
       "      <td>0.000000</td>\n",
       "      <td>0.000000</td>\n",
       "    </tr>\n",
       "    <tr>\n",
       "      <th>25%</th>\n",
       "      <td>0.000000</td>\n",
       "      <td>0.00000</td>\n",
       "      <td>0.000000</td>\n",
       "      <td>0.000000</td>\n",
       "    </tr>\n",
       "    <tr>\n",
       "      <th>50%</th>\n",
       "      <td>0.000000</td>\n",
       "      <td>0.00000</td>\n",
       "      <td>0.000000</td>\n",
       "      <td>20.000000</td>\n",
       "    </tr>\n",
       "    <tr>\n",
       "      <th>75%</th>\n",
       "      <td>1.000000</td>\n",
       "      <td>4.00000</td>\n",
       "      <td>0.000000</td>\n",
       "      <td>210.000000</td>\n",
       "    </tr>\n",
       "    <tr>\n",
       "      <th>max</th>\n",
       "      <td>177.000000</td>\n",
       "      <td>284.00000</td>\n",
       "      <td>525.000000</td>\n",
       "      <td>53207.150000</td>\n",
       "    </tr>\n",
       "  </tbody>\n",
       "</table>\n",
       "</div>"
      ],
      "text/plain": [
       "       emerdonorcount  bankoneoffcount  bankpledgecount           ltv\n",
       "count    76946.000000      76946.00000     76946.000000  76946.000000\n",
       "mean         1.688496          5.21840        15.839966    239.200829\n",
       "std          6.220252         11.80262        42.067317    778.212741\n",
       "min          0.000000          0.00000         0.000000      0.000000\n",
       "25%          0.000000          0.00000         0.000000      0.000000\n",
       "50%          0.000000          0.00000         0.000000     20.000000\n",
       "75%          1.000000          4.00000         0.000000    210.000000\n",
       "max        177.000000        284.00000       525.000000  53207.150000"
      ]
     },
     "execution_count": 21,
     "metadata": {},
     "output_type": "execute_result"
    }
   ],
   "source": [
    "model[['emerdonorcount','bankoneoffcount','bankpledgecount','ltv']][model.legatorflag==0].describe()"
   ]
  },
  {
   "cell_type": "markdown",
   "metadata": {},
   "source": [
    "However, if you compare the statistical summaries of the variables, the means and distributions do vary quite considerably between legators and non-legators. For instance, the average LTV for a legator is £1,225 compared to £239 for a non-legator.  The distribution confirmed below in a box plot... "
   ]
  },
  {
   "cell_type": "code",
   "execution_count": 48,
   "metadata": {
    "collapsed": false
   },
   "outputs": [
    {
     "data": {
      "text/plain": [
       "(0, 5000)"
      ]
     },
     "execution_count": 48,
     "metadata": {},
     "output_type": "execute_result"
    },
    {
     "data": {
      "image/png": "[encoded data removed]",
      "text/plain": [
       "<matplotlib.figure.Figure at 0x1f0ac9b0>"
      ]
     },
     "metadata": {},
     "output_type": "display_data"
    }
   ],
   "source": [
    "## set Y limit to £5000 to highlight the difference in LTV distribution between legators (green) and non-legators (blue)\n",
    "# sns.boxplot(x='legatorflag',y='ltv',data= model[model.ltv<5000])\n",
    "g= sns.factorplot(y='ltv', kind='box', data=model,col='legatorflag',)\n",
    "axes = g.axes\n",
    "axes[0,0].set_ylim(0,5000)"
   ]
  },
  {
   "cell_type": "markdown",
   "metadata": {},
   "source": [
    "** Creating dummies **  \n",
    "For categorical variables; title, gender, pledgestatus, mosaic, ukregion, dmsegment"
   ]
  },
  {
   "cell_type": "code",
   "execution_count": 6,
   "metadata": {
    "collapsed": false
   },
   "outputs": [],
   "source": [
    "##Grouping titles into a more manageable number, classified those with less than 100 obs as Other.\n",
    "titles_to_keep = ['Mr','Mrs','Miss','Ms', 'Dr','Mr & Mrs','Revd']\n",
    "\n",
    "def titles(t):\n",
    "    if t in titles_to_keep:\n",
    "        return t\n",
    "    else:\n",
    "        return 'Other'\n",
    "\n",
    "model['titlegrp'] = model.title.apply(titles)\n",
    "\n",
    "#applying dummies to the new field\n",
    "title = pd.get_dummies(model.titlegrp)\n",
    "title.columns = ['title_' + str(i) for i in title.columns]\n",
    "title.drop('title_Other', inplace=True, axis=1) # dropping 1 dummy. \n",
    "\n",
    "## adding to the model dataframe\n",
    "model = model.join(title)\n",
    "model.drop(['titlegrp','title'],inplace=True,axis=1)"
   ]
  },
  {
   "cell_type": "code",
   "execution_count": 7,
   "metadata": {
    "collapsed": false
   },
   "outputs": [
    {
     "data": {
      "text/plain": [
       "0        No record\n",
       "1         Declined\n",
       "20         Enquiry\n",
       "131        Pledged\n",
       "13922     Intender\n",
       "Name: pledgestatus, dtype: object"
      ]
     },
     "execution_count": 7,
     "metadata": {},
     "output_type": "execute_result"
    }
   ],
   "source": [
    "#Pledge status dummies \n",
    "model.pledgestatus.drop_duplicates()"
   ]
  },
  {
   "cell_type": "code",
   "execution_count": 8,
   "metadata": {
    "collapsed": false
   },
   "outputs": [],
   "source": [
    "pledge = pd.get_dummies(model.pledgestatus) # sib_1 to 8 \n",
    "pledge.columns = ['pledge_' + str(i) for i in pledge.columns]\n",
    "\n",
    "pledge.drop('pledge_No record',inplace=True,axis=1)\n",
    "model = model.join(pledge)\n",
    "\n",
    "model.drop('pledgestatus',inplace=True, axis=1)"
   ]
  },
  {
   "cell_type": "code",
   "execution_count": 9,
   "metadata": {
    "collapsed": false
   },
   "outputs": [
    {
     "data": {
      "text/plain": [
       "0                      East Anglia\n",
       "1                       South West\n",
       "2                       South East\n",
       "3                         Scotland\n",
       "4                            Wales\n",
       "14                      North West\n",
       "17      London & Adjacent Counties\n",
       "19                        Midlands\n",
       "22                      North East\n",
       "40                Northern Ireland\n",
       "364                           None\n",
       "1269               Channel Islands\n",
       "Name: ukregion, dtype: object"
      ]
     },
     "execution_count": 9,
     "metadata": {},
     "output_type": "execute_result"
    }
   ],
   "source": [
    "## Uk region dummies \n",
    "## NB ukregion includes 122 nulls, a dummy variable is NOT created for these, so I don't think I need to drop any other dummies.\n",
    "\n",
    "model.ukregion.drop_duplicates() "
   ]
  },
  {
   "cell_type": "code",
   "execution_count": 10,
   "metadata": {
    "collapsed": false
   },
   "outputs": [
    {
     "data": {
      "text/html": [
       "<div>\n",
       "<table border=\"1\" class=\"dataframe\">\n",
       "  <thead>\n",
       "    <tr style=\"text-align: right;\">\n",
       "      <th></th>\n",
       "      <th>region_Channel Islands</th>\n",
       "      <th>region_East Anglia</th>\n",
       "      <th>region_London &amp; Adjacent Counties</th>\n",
       "      <th>region_Midlands</th>\n",
       "      <th>region_North East</th>\n",
       "      <th>region_North West</th>\n",
       "      <th>region_Northern Ireland</th>\n",
       "      <th>region_Scotland</th>\n",
       "      <th>region_South East</th>\n",
       "      <th>region_South West</th>\n",
       "      <th>region_Wales</th>\n",
       "    </tr>\n",
       "  </thead>\n",
       "  <tbody>\n",
       "    <tr>\n",
       "      <th>0</th>\n",
       "      <td>0</td>\n",
       "      <td>1</td>\n",
       "      <td>0</td>\n",
       "      <td>0</td>\n",
       "      <td>0</td>\n",
       "      <td>0</td>\n",
       "      <td>0</td>\n",
       "      <td>0</td>\n",
       "      <td>0</td>\n",
       "      <td>0</td>\n",
       "      <td>0</td>\n",
       "    </tr>\n",
       "  </tbody>\n",
       "</table>\n",
       "</div>"
      ],
      "text/plain": [
       "   region_Channel Islands  region_East Anglia  \\\n",
       "0                       0                   1   \n",
       "\n",
       "   region_London & Adjacent Counties  region_Midlands  region_North East  \\\n",
       "0                                  0                0                  0   \n",
       "\n",
       "   region_North West  region_Northern Ireland  region_Scotland  \\\n",
       "0                  0                        0                0   \n",
       "\n",
       "   region_South East  region_South West  region_Wales  \n",
       "0                  0                  0             0  "
      ]
     },
     "execution_count": 10,
     "metadata": {},
     "output_type": "execute_result"
    }
   ],
   "source": [
    "ukregion = pd.get_dummies(model.ukregion)\n",
    "ukregion.columns = ['region_' + str(i) for i in ukregion.columns]\n",
    "ukregion.head(1)"
   ]
  },
  {
   "cell_type": "code",
   "execution_count": 11,
   "metadata": {
    "collapsed": false
   },
   "outputs": [],
   "source": [
    "model = model.join(ukregion)\n",
    "model.drop('ukregion', inplace=True, axis=1)"
   ]
  },
  {
   "cell_type": "code",
   "execution_count": 12,
   "metadata": {
    "collapsed": true
   },
   "outputs": [],
   "source": [
    "#gender dummy\n",
    "model['is_male'] = model.gender.apply(lambda x: 1 if x == 'Male' else 0)\n",
    "model.drop('gender', inplace=True, axis=1)"
   ]
  },
  {
   "cell_type": "code",
   "execution_count": 13,
   "metadata": {
    "collapsed": false
   },
   "outputs": [],
   "source": [
    "# Mosaic dummies \n",
    "# Grouping mosaic by the alpha character\n",
    "model['mosaicgrp'] = model.mosaic.str[0]\n",
    "mosaic = pd.get_dummies(model.mosaicgrp)\n",
    "mosaic.columns = ['mosaic_' + str(i) for i in mosaic.columns]\n",
    "model = model.join(mosaic)\n",
    "\n",
    "# DM segment is captured at the end of the supporters journey and not reflective of a marketing selection \n",
    "# model['dmsegmentgrp'] = model.dmsegment.str[0]\n",
    "# dmsegment = pd.get_dummies(model.dmsegmentgrp) \n",
    "# dmsegment.columns = ['dmsegment_' + str(i) for i in dmsegment.columns]\n",
    "# model = model.join(dmsegment)"
   ]
  },
  {
   "cell_type": "code",
   "execution_count": 14,
   "metadata": {
    "collapsed": false
   },
   "outputs": [],
   "source": [
    "# Removing fields that have been replaced by dummies\n",
    "model.drop(['mosaic','mosaicgrp'],inplace=True, axis=1)"
   ]
  },
  {
   "cell_type": "code",
   "execution_count": null,
   "metadata": {
    "collapsed": true
   },
   "outputs": [],
   "source": [
    "# example of filling nulls with an average\n",
    "# titanic['Age'] = titanic.groupby([\"Sex\", 'Pclass']).Age.transform(lambda x: x.fillna(x.mean()))"
   ]
  },
  {
   "cell_type": "code",
   "execution_count": 15,
   "metadata": {
    "collapsed": false
   },
   "outputs": [
    {
     "data": {
      "text/plain": [
       "(78271, 50)"
      ]
     },
     "execution_count": 15,
     "metadata": {},
     "output_type": "execute_result"
    }
   ],
   "source": [
    "model.shape"
   ]
  },
  {
   "cell_type": "markdown",
   "metadata": {},
   "source": [
    "**There is very limited correlation (<10%) between each of the predictors and the legatorflag.**  \n",
    "Therefore my expectation is that the models ability to identify future legators is very low - but given the purpose of this model (to target supporters more likely to leave a legacy), the model should focus on minimising the **True Negatives** - this is the group that are predicted as not legator, but they actually do leave a legacy."
   ]
  },
  {
   "cell_type": "code",
   "execution_count": 16,
   "metadata": {
    "collapsed": false
   },
   "outputs": [],
   "source": [
    "from sklearn.linear_model import LogisticRegression\n",
    "lm = LogisticRegression()"
   ]
  },
  {
   "cell_type": "code",
   "execution_count": 17,
   "metadata": {
    "collapsed": true
   },
   "outputs": [],
   "source": [
    "from sklearn.model_selection import train_test_split\n",
    "train, test = train_test_split(model, test_size = 0.2, randomstate = 0 )#random state sets a random seed so \n",
    "                                                                        # if this code were re-run the train/test split would be \n",
    "                                                                        # cut randomly in the same place."
   ]
  },
  {
   "cell_type": "markdown",
   "metadata": {},
   "source": [
    "** Fitting a logistic regression model ** "
   ]
  },
  {
   "cell_type": "code",
   "execution_count": 18,
   "metadata": {
    "collapsed": false
   },
   "outputs": [
    {
     "name": "stderr",
     "output_type": "stream",
     "text": [
      "C:\\Users\\BeckyC\\AppData\\Local\\Continuum\\Anaconda3\\lib\\site-packages\\sklearn\\utils\\validation.py:526: DataConversionWarning: A column-vector y was passed when a 1d array was expected. Please change the shape of y to (n_samples, ), for example using ravel().\n",
      "  y = column_or_1d(y, warn=True)\n"
     ]
    },
    {
     "name": "stdout",
     "output_type": "stream",
     "text": [
      "LogisticRegression(C=1.0, class_weight=None, dual=False, fit_intercept=True,\n",
      "          intercept_scaling=1, max_iter=100, multi_class='ovr', n_jobs=1,\n",
      "          penalty='l2', random_state=None, solver='liblinear', tol=0.0001,\n",
      "          verbose=0, warm_start=False)\n"
     ]
    }
   ],
   "source": [
    "X= train.ix[:,1:50]#.drop('ltv_log',axis=1) # capturing everything except the outcome in column 0.\n",
    "y = train[['legatorflag']]\n",
    "\n",
    "print(lm.fit(X, y))"
   ]
  },
  {
   "cell_type": "markdown",
   "metadata": {},
   "source": [
    "** Calculating the p-values **  "
   ]
  },
  {
   "cell_type": "code",
   "execution_count": 19,
   "metadata": {
    "collapsed": false
   },
   "outputs": [
    {
     "data": {
      "text/html": [
       "<div>\n",
       "<table border=\"1\" class=\"dataframe\">\n",
       "  <thead>\n",
       "    <tr style=\"text-align: right;\">\n",
       "      <th></th>\n",
       "      <th>Variable</th>\n",
       "      <th>pvalue</th>\n",
       "    </tr>\n",
       "  </thead>\n",
       "  <tbody>\n",
       "    <tr>\n",
       "      <th>1</th>\n",
       "      <td>ltv</td>\n",
       "      <td>0.000000</td>\n",
       "    </tr>\n",
       "    <tr>\n",
       "      <th>3</th>\n",
       "      <td>emerdonorcount</td>\n",
       "      <td>0.000000</td>\n",
       "    </tr>\n",
       "    <tr>\n",
       "      <th>4</th>\n",
       "      <td>bankoneoffcount</td>\n",
       "      <td>0.000000</td>\n",
       "    </tr>\n",
       "    <tr>\n",
       "      <th>5</th>\n",
       "      <td>bankpledgecount</td>\n",
       "      <td>0.000000</td>\n",
       "    </tr>\n",
       "    <tr>\n",
       "      <th>21</th>\n",
       "      <td>pledge_Pledged</td>\n",
       "      <td>0.000000</td>\n",
       "    </tr>\n",
       "    <tr>\n",
       "      <th>2</th>\n",
       "      <td>giftaidflag</td>\n",
       "      <td>0.000000</td>\n",
       "    </tr>\n",
       "    <tr>\n",
       "      <th>12</th>\n",
       "      <td>title_Miss</td>\n",
       "      <td>0.000000</td>\n",
       "    </tr>\n",
       "    <tr>\n",
       "      <th>6</th>\n",
       "      <td>dmflag</td>\n",
       "      <td>0.000000</td>\n",
       "    </tr>\n",
       "    <tr>\n",
       "      <th>13</th>\n",
       "      <td>title_Mr</td>\n",
       "      <td>0.000000</td>\n",
       "    </tr>\n",
       "    <tr>\n",
       "      <th>0</th>\n",
       "      <td>legmarketingflag</td>\n",
       "      <td>0.000002</td>\n",
       "    </tr>\n",
       "    <tr>\n",
       "      <th>33</th>\n",
       "      <td>is_male</td>\n",
       "      <td>0.000002</td>\n",
       "    </tr>\n",
       "    <tr>\n",
       "      <th>19</th>\n",
       "      <td>pledge_Enquiry</td>\n",
       "      <td>0.000020</td>\n",
       "    </tr>\n",
       "    <tr>\n",
       "      <th>44</th>\n",
       "      <td>mosaic_K</td>\n",
       "      <td>0.000053</td>\n",
       "    </tr>\n",
       "    <tr>\n",
       "      <th>10</th>\n",
       "      <td>mobilephoneflag</td>\n",
       "      <td>0.000101</td>\n",
       "    </tr>\n",
       "    <tr>\n",
       "      <th>11</th>\n",
       "      <td>title_Dr</td>\n",
       "      <td>0.000404</td>\n",
       "    </tr>\n",
       "    <tr>\n",
       "      <th>42</th>\n",
       "      <td>mosaic_I</td>\n",
       "      <td>0.001226</td>\n",
       "    </tr>\n",
       "    <tr>\n",
       "      <th>46</th>\n",
       "      <td>mosaic_M</td>\n",
       "      <td>0.001281</td>\n",
       "    </tr>\n",
       "    <tr>\n",
       "      <th>28</th>\n",
       "      <td>region_Northern Ireland</td>\n",
       "      <td>0.004151</td>\n",
       "    </tr>\n",
       "    <tr>\n",
       "      <th>14</th>\n",
       "      <td>title_Mr &amp; Mrs</td>\n",
       "      <td>0.008055</td>\n",
       "    </tr>\n",
       "    <tr>\n",
       "      <th>31</th>\n",
       "      <td>region_South West</td>\n",
       "      <td>0.009148</td>\n",
       "    </tr>\n",
       "    <tr>\n",
       "      <th>34</th>\n",
       "      <td>mosaic_A</td>\n",
       "      <td>0.034106</td>\n",
       "    </tr>\n",
       "    <tr>\n",
       "      <th>43</th>\n",
       "      <td>mosaic_J</td>\n",
       "      <td>0.034224</td>\n",
       "    </tr>\n",
       "    <tr>\n",
       "      <th>25</th>\n",
       "      <td>region_Midlands</td>\n",
       "      <td>0.065728</td>\n",
       "    </tr>\n",
       "    <tr>\n",
       "      <th>15</th>\n",
       "      <td>title_Mrs</td>\n",
       "      <td>0.079933</td>\n",
       "    </tr>\n",
       "    <tr>\n",
       "      <th>23</th>\n",
       "      <td>region_East Anglia</td>\n",
       "      <td>0.095250</td>\n",
       "    </tr>\n",
       "    <tr>\n",
       "      <th>29</th>\n",
       "      <td>region_Scotland</td>\n",
       "      <td>0.103069</td>\n",
       "    </tr>\n",
       "    <tr>\n",
       "      <th>22</th>\n",
       "      <td>region_Channel Islands</td>\n",
       "      <td>0.104336</td>\n",
       "    </tr>\n",
       "    <tr>\n",
       "      <th>7</th>\n",
       "      <td>campaignerflag</td>\n",
       "      <td>0.109919</td>\n",
       "    </tr>\n",
       "    <tr>\n",
       "      <th>39</th>\n",
       "      <td>mosaic_F</td>\n",
       "      <td>0.130760</td>\n",
       "    </tr>\n",
       "    <tr>\n",
       "      <th>38</th>\n",
       "      <td>mosaic_E</td>\n",
       "      <td>0.145886</td>\n",
       "    </tr>\n",
       "    <tr>\n",
       "      <th>9</th>\n",
       "      <td>landlineflag</td>\n",
       "      <td>0.184433</td>\n",
       "    </tr>\n",
       "    <tr>\n",
       "      <th>35</th>\n",
       "      <td>mosaic_B</td>\n",
       "      <td>0.249838</td>\n",
       "    </tr>\n",
       "    <tr>\n",
       "      <th>8</th>\n",
       "      <td>traderflag</td>\n",
       "      <td>0.286153</td>\n",
       "    </tr>\n",
       "    <tr>\n",
       "      <th>37</th>\n",
       "      <td>mosaic_D</td>\n",
       "      <td>0.355410</td>\n",
       "    </tr>\n",
       "    <tr>\n",
       "      <th>41</th>\n",
       "      <td>mosaic_H</td>\n",
       "      <td>0.484862</td>\n",
       "    </tr>\n",
       "    <tr>\n",
       "      <th>24</th>\n",
       "      <td>region_London &amp; Adjacent Counties</td>\n",
       "      <td>0.570437</td>\n",
       "    </tr>\n",
       "    <tr>\n",
       "      <th>40</th>\n",
       "      <td>mosaic_G</td>\n",
       "      <td>0.665723</td>\n",
       "    </tr>\n",
       "    <tr>\n",
       "      <th>17</th>\n",
       "      <td>title_Revd</td>\n",
       "      <td>0.685963</td>\n",
       "    </tr>\n",
       "    <tr>\n",
       "      <th>16</th>\n",
       "      <td>title_Ms</td>\n",
       "      <td>0.689729</td>\n",
       "    </tr>\n",
       "    <tr>\n",
       "      <th>32</th>\n",
       "      <td>region_Wales</td>\n",
       "      <td>0.739470</td>\n",
       "    </tr>\n",
       "    <tr>\n",
       "      <th>36</th>\n",
       "      <td>mosaic_C</td>\n",
       "      <td>0.781886</td>\n",
       "    </tr>\n",
       "    <tr>\n",
       "      <th>18</th>\n",
       "      <td>pledge_Declined</td>\n",
       "      <td>0.783523</td>\n",
       "    </tr>\n",
       "    <tr>\n",
       "      <th>20</th>\n",
       "      <td>pledge_Intender</td>\n",
       "      <td>0.821305</td>\n",
       "    </tr>\n",
       "    <tr>\n",
       "      <th>47</th>\n",
       "      <td>mosaic_N</td>\n",
       "      <td>0.871014</td>\n",
       "    </tr>\n",
       "    <tr>\n",
       "      <th>30</th>\n",
       "      <td>region_South East</td>\n",
       "      <td>0.892557</td>\n",
       "    </tr>\n",
       "    <tr>\n",
       "      <th>27</th>\n",
       "      <td>region_North West</td>\n",
       "      <td>0.931764</td>\n",
       "    </tr>\n",
       "    <tr>\n",
       "      <th>26</th>\n",
       "      <td>region_North East</td>\n",
       "      <td>0.957539</td>\n",
       "    </tr>\n",
       "    <tr>\n",
       "      <th>45</th>\n",
       "      <td>mosaic_L</td>\n",
       "      <td>0.973964</td>\n",
       "    </tr>\n",
       "  </tbody>\n",
       "</table>\n",
       "</div>"
      ],
      "text/plain": [
       "                             Variable   pvalue\n",
       "1                                 ltv 0.000000\n",
       "3                      emerdonorcount 0.000000\n",
       "4                     bankoneoffcount 0.000000\n",
       "5                     bankpledgecount 0.000000\n",
       "21                     pledge_Pledged 0.000000\n",
       "2                         giftaidflag 0.000000\n",
       "12                         title_Miss 0.000000\n",
       "6                              dmflag 0.000000\n",
       "13                           title_Mr 0.000000\n",
       "0                    legmarketingflag 0.000002\n",
       "33                            is_male 0.000002\n",
       "19                     pledge_Enquiry 0.000020\n",
       "44                           mosaic_K 0.000053\n",
       "10                    mobilephoneflag 0.000101\n",
       "11                           title_Dr 0.000404\n",
       "42                           mosaic_I 0.001226\n",
       "46                           mosaic_M 0.001281\n",
       "28            region_Northern Ireland 0.004151\n",
       "14                     title_Mr & Mrs 0.008055\n",
       "31                  region_South West 0.009148\n",
       "34                           mosaic_A 0.034106\n",
       "43                           mosaic_J 0.034224\n",
       "25                    region_Midlands 0.065728\n",
       "15                          title_Mrs 0.079933\n",
       "23                 region_East Anglia 0.095250\n",
       "29                    region_Scotland 0.103069\n",
       "22             region_Channel Islands 0.104336\n",
       "7                      campaignerflag 0.109919\n",
       "39                           mosaic_F 0.130760\n",
       "38                           mosaic_E 0.145886\n",
       "9                        landlineflag 0.184433\n",
       "35                           mosaic_B 0.249838\n",
       "8                          traderflag 0.286153\n",
       "37                           mosaic_D 0.355410\n",
       "41                           mosaic_H 0.484862\n",
       "24  region_London & Adjacent Counties 0.570437\n",
       "40                           mosaic_G 0.665723\n",
       "17                         title_Revd 0.685963\n",
       "16                           title_Ms 0.689729\n",
       "32                       region_Wales 0.739470\n",
       "36                           mosaic_C 0.781886\n",
       "18                    pledge_Declined 0.783523\n",
       "20                    pledge_Intender 0.821305\n",
       "47                           mosaic_N 0.871014\n",
       "30                  region_South East 0.892557\n",
       "27                  region_North West 0.931764\n",
       "26                  region_North East 0.957539\n",
       "45                           mosaic_L 0.973964"
      ]
     },
     "execution_count": 19,
     "metadata": {},
     "output_type": "execute_result"
    }
   ],
   "source": [
    "# Getting P-Values for each feature\n",
    "from sklearn.feature_selection import chi2\n",
    "scores, pvalues = chi2(X, y)\n",
    "\n",
    "\n",
    "d = []\n",
    "for n in range(48):\n",
    "    d.append({'Variable': X.columns[n], 'pvalue': pvalues[n]})\n",
    "\n",
    "pd.options.display.float_format = '{:f}'.format # removing scientific notation\n",
    "df_p= pd.DataFrame(d)\n",
    "\n",
    "\n",
    "# for n in range(49): # alternative just printing out the rows.\n",
    "#         print (X.columns[n],':  ',pvalues[n])\n",
    "\n",
    "# keeping a list of significant variables\n",
    "sig = df_p[df_p.pvalue < 0.05]\n",
    "\n",
    "# displaying all variables\n",
    "df_p.sort_values('pvalue')"
   ]
  },
  {
   "cell_type": "markdown",
   "metadata": {},
   "source": [
    "** Calculating the Information Value for categorical data ** "
   ]
  },
  {
   "cell_type": "code",
   "execution_count": 27,
   "metadata": {
    "collapsed": false
   },
   "outputs": [],
   "source": [
    "# defining a function \n",
    "def IV(feature, outcome, data):\n",
    "    #d - dist, 1/0= legate/dnl, 1/0 = feature true or false \n",
    "    d11= data.iloc[:,0][(data[feature]==1) & (data[outcome]==1) ].count()/ data.iloc[:,0][data[outcome]==1].count()\n",
    "    d10= data.iloc[:,0][(data[feature]==0) & (data[outcome]==1) ].count()/ data.iloc[:,0][data[outcome]==1].count()\n",
    "\n",
    "    d01=data.iloc[:,0][(data[feature]==1) & (data[outcome]==0) ].count()/ data.iloc[:,0][data[outcome]==0].count()\n",
    "    d00=data.iloc[:,0][(data[feature]==0) & (data[outcome]==0) ].count()/ data.iloc[:,0][data[outcome]==0].count()\n",
    "    \n",
    "    woe_true = np.log(d10/d00)\n",
    "    woe_false = np.log(d11/d01)\n",
    "    dist_true = d10-d00\n",
    "    dist_false = d11-d01\n",
    "    IV = woe_true * dist_true + woe_false * dist_false\n",
    "    if IV > 0.3:\n",
    "        status = 'strong'\n",
    "    elif IV >=0.1:\n",
    "        status ='medium'\n",
    "    elif IV >=0.02:\n",
    "        status = 'weak'\n",
    "    else:\n",
    "        status ='unpredictive'\n",
    "            \n",
    "    return IV #print(feature, ':',status, \":\", IV ) # uncomment to print out all values in for loop below:\n",
    "\n",
    "# for f in X[sig.Variable]:\n",
    "#     IV(f,'legatorflag',train)"
   ]
  },
  {
   "cell_type": "code",
   "execution_count": null,
   "metadata": {
    "collapsed": false
   },
   "outputs": [],
   "source": [
    "## Calculating Information Value for significant variables.\n",
    "i = []\n",
    "for var in sig.Variable:\n",
    "    i.append({'Variable': X[var].name, \n",
    "              'IV': IV(var,'legatorflag',train)})\n",
    "\n",
    "df_i= pd.DataFrame(i)\n",
    "\n",
    "predictive = df_i[(df_i['IV']>=0.02)] ## keeping anything that is weak to strong "
   ]
  },
  {
   "cell_type": "code",
   "execution_count": 40,
   "metadata": {
    "collapsed": false
   },
   "outputs": [
    {
     "data": {
      "text/html": [
       "<div>\n",
       "<table border=\"1\" class=\"dataframe\">\n",
       "  <thead>\n",
       "    <tr style=\"text-align: right;\">\n",
       "      <th></th>\n",
       "      <th>IV</th>\n",
       "      <th>Variable</th>\n",
       "    </tr>\n",
       "  </thead>\n",
       "  <tbody>\n",
       "    <tr>\n",
       "      <th>17</th>\n",
       "      <td>0.004065</td>\n",
       "      <td>mosaic_A</td>\n",
       "    </tr>\n",
       "    <tr>\n",
       "      <th>19</th>\n",
       "      <td>0.005676</td>\n",
       "      <td>mosaic_J</td>\n",
       "    </tr>\n",
       "    <tr>\n",
       "      <th>15</th>\n",
       "      <td>0.006734</td>\n",
       "      <td>region_South West</td>\n",
       "    </tr>\n",
       "    <tr>\n",
       "      <th>8</th>\n",
       "      <td>0.009184</td>\n",
       "      <td>title_Dr</td>\n",
       "    </tr>\n",
       "    <tr>\n",
       "      <th>11</th>\n",
       "      <td>0.011345</td>\n",
       "      <td>title_Mr &amp; Mrs</td>\n",
       "    </tr>\n",
       "    <tr>\n",
       "      <th>14</th>\n",
       "      <td>0.012074</td>\n",
       "      <td>region_Northern Ireland</td>\n",
       "    </tr>\n",
       "    <tr>\n",
       "      <th>12</th>\n",
       "      <td>0.013234</td>\n",
       "      <td>pledge_Enquiry</td>\n",
       "    </tr>\n",
       "    <tr>\n",
       "      <th>21</th>\n",
       "      <td>0.015056</td>\n",
       "      <td>mosaic_M</td>\n",
       "    </tr>\n",
       "    <tr>\n",
       "      <th>18</th>\n",
       "      <td>0.016726</td>\n",
       "      <td>mosaic_I</td>\n",
       "    </tr>\n",
       "    <tr>\n",
       "      <th>7</th>\n",
       "      <td>0.023845</td>\n",
       "      <td>mobilephoneflag</td>\n",
       "    </tr>\n",
       "    <tr>\n",
       "      <th>20</th>\n",
       "      <td>0.030700</td>\n",
       "      <td>mosaic_K</td>\n",
       "    </tr>\n",
       "    <tr>\n",
       "      <th>16</th>\n",
       "      <td>0.038824</td>\n",
       "      <td>is_male</td>\n",
       "    </tr>\n",
       "    <tr>\n",
       "      <th>0</th>\n",
       "      <td>0.044288</td>\n",
       "      <td>legmarketingflag</td>\n",
       "    </tr>\n",
       "    <tr>\n",
       "      <th>10</th>\n",
       "      <td>0.044389</td>\n",
       "      <td>title_Mr</td>\n",
       "    </tr>\n",
       "    <tr>\n",
       "      <th>9</th>\n",
       "      <td>0.104444</td>\n",
       "      <td>title_Miss</td>\n",
       "    </tr>\n",
       "    <tr>\n",
       "      <th>6</th>\n",
       "      <td>0.184684</td>\n",
       "      <td>dmflag</td>\n",
       "    </tr>\n",
       "    <tr>\n",
       "      <th>3</th>\n",
       "      <td>0.204073</td>\n",
       "      <td>emerdonorcount</td>\n",
       "    </tr>\n",
       "    <tr>\n",
       "      <th>2</th>\n",
       "      <td>0.215134</td>\n",
       "      <td>giftaidflag</td>\n",
       "    </tr>\n",
       "    <tr>\n",
       "      <th>4</th>\n",
       "      <td>0.242383</td>\n",
       "      <td>bankoneoffcount</td>\n",
       "    </tr>\n",
       "    <tr>\n",
       "      <th>13</th>\n",
       "      <td>0.804542</td>\n",
       "      <td>pledge_Pledged</td>\n",
       "    </tr>\n",
       "    <tr>\n",
       "      <th>5</th>\n",
       "      <td>inf</td>\n",
       "      <td>bankpledgecount</td>\n",
       "    </tr>\n",
       "    <tr>\n",
       "      <th>1</th>\n",
       "      <td>inf</td>\n",
       "      <td>ltv</td>\n",
       "    </tr>\n",
       "  </tbody>\n",
       "</table>\n",
       "</div>"
      ],
      "text/plain": [
       "         IV                 Variable\n",
       "17 0.004065                 mosaic_A\n",
       "19 0.005676                 mosaic_J\n",
       "15 0.006734        region_South West\n",
       "8  0.009184                 title_Dr\n",
       "11 0.011345           title_Mr & Mrs\n",
       "14 0.012074  region_Northern Ireland\n",
       "12 0.013234           pledge_Enquiry\n",
       "21 0.015056                 mosaic_M\n",
       "18 0.016726                 mosaic_I\n",
       "7  0.023845          mobilephoneflag\n",
       "20 0.030700                 mosaic_K\n",
       "16 0.038824                  is_male\n",
       "0  0.044288         legmarketingflag\n",
       "10 0.044389                 title_Mr\n",
       "9  0.104444               title_Miss\n",
       "6  0.184684                   dmflag\n",
       "3  0.204073           emerdonorcount\n",
       "2  0.215134              giftaidflag\n",
       "4  0.242383          bankoneoffcount\n",
       "13 0.804542           pledge_Pledged\n",
       "5       inf          bankpledgecount\n",
       "1       inf                      ltv"
      ]
     },
     "execution_count": 40,
     "metadata": {},
     "output_type": "execute_result"
    }
   ],
   "source": [
    "##shortlist of predictive and statistically significant features\n",
    "predictive\n",
    "# df_i.sort_values('IV')"
   ]
  },
  {
   "cell_type": "markdown",
   "metadata": {},
   "source": [
    "nb IV is used to check predictiveness of binned/ binary variables.  Hence why it creates \"infinite\" for the continuous variables."
   ]
  },
  {
   "cell_type": "markdown",
   "metadata": {},
   "source": [
    "** Coefficients **   \n",
    "Rebuilding the model using **only significant & predictive** variables and adding **regularisation** with cross validation and C value.  \n",
    "Iterated through the model fit code to test excluding some features and noting the effect on the auc.  See the spreadsheet in the working file folder of K049 for history.  \n",
    "\n",
    "The final model includes all features except \"is_male\" and \"mosaic_I\" - in case there is any regulatory concern about using this information for marketing purposes. Excluding Mosaic does not effect the models performance."
   ]
  },
  {
   "cell_type": "code",
   "execution_count": 32,
   "metadata": {
    "collapsed": false
   },
   "outputs": [],
   "source": [
    "X=  train[predictive.Variable].drop(['is_male','mosaic_K'], axis=1) #,'bankpledgecount','bankoneoffcount','emerdonorcount',\n",
    "y = train.legatorflag"
   ]
  },
  {
   "cell_type": "code",
   "execution_count": 33,
   "metadata": {
    "collapsed": false
   },
   "outputs": [
    {
     "name": "stderr",
     "output_type": "stream",
     "text": [
      "C:\\Users\\BeckyC\\AppData\\Local\\Continuum\\Anaconda3\\lib\\site-packages\\sklearn\\cross_validation.py:44: DeprecationWarning: This module was deprecated in version 0.18 in favor of the model_selection module into which all the refactored classes and functions are moved. Also note that the interface of the new CV iterators are different from that of this module. This module will be removed in 0.20.\n",
      "  \"This module will be removed in 0.20.\", DeprecationWarning)\n",
      "C:\\Users\\BeckyC\\AppData\\Local\\Continuum\\Anaconda3\\lib\\site-packages\\sklearn\\grid_search.py:43: DeprecationWarning: This module was deprecated in version 0.18 in favor of the model_selection module into which all the refactored classes and functions are moved. This module will be removed in 0.20.\n",
      "  DeprecationWarning)\n"
     ]
    },
    {
     "data": {
      "text/plain": [
       "[mean: 0.75271, std: 0.01751, params: {'C': 100000, 'class_weight': None},\n",
       " mean: 0.77226, std: 0.01810, params: {'C': 100000, 'class_weight': 'balanced'},\n",
       " mean: 0.75277, std: 0.01739, params: {'C': 10000, 'class_weight': None},\n",
       " mean: 0.77227, std: 0.01813, params: {'C': 10000, 'class_weight': 'balanced'},\n",
       " mean: 0.75235, std: 0.01760, params: {'C': 1000, 'class_weight': None},\n",
       " mean: 0.77230, std: 0.01816, params: {'C': 1000, 'class_weight': 'balanced'},\n",
       " mean: 0.75248, std: 0.01759, params: {'C': 100, 'class_weight': None},\n",
       " mean: 0.77228, std: 0.01814, params: {'C': 100, 'class_weight': 'balanced'},\n",
       " mean: 0.75311, std: 0.01732, params: {'C': 10, 'class_weight': None},\n",
       " mean: 0.77228, std: 0.01815, params: {'C': 10, 'class_weight': 'balanced'},\n",
       " mean: 0.75367, std: 0.01777, params: {'C': 1, 'class_weight': None},\n",
       " mean: 0.77229, std: 0.01832, params: {'C': 1, 'class_weight': 'balanced'},\n",
       " mean: 0.76188, std: 0.01648, params: {'C': 0.1, 'class_weight': None},\n",
       " mean: 0.77286, std: 0.01836, params: {'C': 0.1, 'class_weight': 'balanced'},\n",
       " mean: 0.73876, std: 0.03045, params: {'C': 0.01, 'class_weight': None},\n",
       " mean: 0.77510, std: 0.01801, params: {'C': 0.01, 'class_weight': 'balanced'},\n",
       " mean: 0.54360, std: 0.03960, params: {'C': 0.001, 'class_weight': None},\n",
       " mean: 0.77598, std: 0.01814, params: {'C': 0.001, 'class_weight': 'balanced'},\n",
       " mean: 0.34051, std: 0.01991, params: {'C': 0.0001, 'class_weight': None},\n",
       " mean: 0.76863, std: 0.01688, params: {'C': 0.0001, 'class_weight': 'balanced'}]"
      ]
     },
     "execution_count": 33,
     "metadata": {},
     "output_type": "execute_result"
    }
   ],
   "source": [
    "from sklearn import grid_search  #cross_validation\n",
    "\n",
    "gs = grid_search.GridSearchCV(\n",
    "    estimator=LogisticRegression(),\n",
    "    param_grid={'C': [10**-i for i in range(-5, 5)], #smaller values specify stronger regularization\n",
    "                'class_weight': [None, 'balanced']}, #The “balanced” mode uses the values of y to automatically adjust weights \n",
    "                                                     #proportional to class frequencies in the input data\n",
    "    cv=10, #cross_validation.KFold(n=len(train), n_folds=10),\n",
    "    scoring='roc_auc')\n",
    "\n",
    "gs.fit(X, y)\n",
    "gs.grid_scores_ # mean is returning the average AUC for the k-folds.\n"
   ]
  },
  {
   "cell_type": "code",
   "execution_count": 34,
   "metadata": {
    "collapsed": false
   },
   "outputs": [
    {
     "name": "stdout",
     "output_type": "stream",
     "text": [
      "LogisticRegression(C=0.001, class_weight='balanced', dual=False,\n",
      "          fit_intercept=True, intercept_scaling=1, max_iter=100,\n",
      "          multi_class='ovr', n_jobs=1, penalty='l2', random_state=None,\n",
      "          solver='liblinear', tol=0.0001, verbose=0, warm_start=False)\n"
     ]
    }
   ],
   "source": [
    "print (gs.best_estimator_)"
   ]
  },
  {
   "cell_type": "code",
   "execution_count": 35,
   "metadata": {
    "collapsed": false
   },
   "outputs": [
    {
     "name": "stdout",
     "output_type": "stream",
     "text": [
      "train auc 0.710651445595\n",
      "test auc 0.720833530223\n"
     ]
    }
   ],
   "source": [
    "## Applying predicted probability and predicted legacy class to the test data \n",
    "#gs holds the estimator with the best parameters\n",
    "from sklearn.metrics import (roc_curve, roc_auc_score,)\n",
    "\n",
    "test['prob_leg'] = gs.predict_proba(test[X.columns])[:,1] \n",
    "test['prob_nleg'] = gs.predict_proba(test[X.columns])[:,0] \n",
    "test['pred'] = gs.predict(test[X.columns]) \n",
    "\n",
    "\n",
    "print('train auc', roc_auc_score(train.legatorflag, gs.predict(X)))\n",
    "print('test auc', roc_auc_score(test.legatorflag, test.pred))"
   ]
  },
  {
   "cell_type": "markdown",
   "metadata": {},
   "source": [
    "The test \"area under the curve\" confirms that the model performs equally well on unseen data.  "
   ]
  },
  {
   "cell_type": "code",
   "execution_count": 36,
   "metadata": {
    "collapsed": false
   },
   "outputs": [
    {
     "name": "stdout",
     "output_type": "stream",
     "text": [
      "Intercept:  [-0.37783958]\n"
     ]
    },
    {
     "data": {
      "text/html": [
       "<div>\n",
       "<table border=\"1\" class=\"dataframe\">\n",
       "  <thead>\n",
       "    <tr style=\"text-align: right;\">\n",
       "      <th></th>\n",
       "      <th>Variable</th>\n",
       "      <th>coefs/log odds</th>\n",
       "    </tr>\n",
       "  </thead>\n",
       "  <tbody>\n",
       "    <tr>\n",
       "      <th>0</th>\n",
       "      <td>legmarketingflag</td>\n",
       "      <td>-0.423685</td>\n",
       "    </tr>\n",
       "    <tr>\n",
       "      <th>1</th>\n",
       "      <td>ltv</td>\n",
       "      <td>0.000565</td>\n",
       "    </tr>\n",
       "    <tr>\n",
       "      <th>2</th>\n",
       "      <td>giftaidflag</td>\n",
       "      <td>0.177609</td>\n",
       "    </tr>\n",
       "    <tr>\n",
       "      <th>3</th>\n",
       "      <td>emerdonorcount</td>\n",
       "      <td>0.005600</td>\n",
       "    </tr>\n",
       "    <tr>\n",
       "      <th>4</th>\n",
       "      <td>bankoneoffcount</td>\n",
       "      <td>0.030020</td>\n",
       "    </tr>\n",
       "    <tr>\n",
       "      <th>5</th>\n",
       "      <td>bankpledgecount</td>\n",
       "      <td>0.001520</td>\n",
       "    </tr>\n",
       "    <tr>\n",
       "      <th>6</th>\n",
       "      <td>dmflag</td>\n",
       "      <td>-0.014622</td>\n",
       "    </tr>\n",
       "    <tr>\n",
       "      <th>7</th>\n",
       "      <td>mobilephoneflag</td>\n",
       "      <td>-0.224444</td>\n",
       "    </tr>\n",
       "    <tr>\n",
       "      <th>8</th>\n",
       "      <td>title_Miss</td>\n",
       "      <td>0.385525</td>\n",
       "    </tr>\n",
       "    <tr>\n",
       "      <th>9</th>\n",
       "      <td>title_Mr</td>\n",
       "      <td>-0.288376</td>\n",
       "    </tr>\n",
       "    <tr>\n",
       "      <th>10</th>\n",
       "      <td>pledge_Pledged</td>\n",
       "      <td>0.947109</td>\n",
       "    </tr>\n",
       "  </tbody>\n",
       "</table>\n",
       "</div>"
      ],
      "text/plain": [
       "            Variable  coefs/log odds\n",
       "0   legmarketingflag       -0.423685\n",
       "1                ltv        0.000565\n",
       "2        giftaidflag        0.177609\n",
       "3     emerdonorcount        0.005600\n",
       "4    bankoneoffcount        0.030020\n",
       "5    bankpledgecount        0.001520\n",
       "6             dmflag       -0.014622\n",
       "7    mobilephoneflag       -0.224444\n",
       "8         title_Miss        0.385525\n",
       "9           title_Mr       -0.288376\n",
       "10    pledge_Pledged        0.947109"
      ]
     },
     "execution_count": 36,
     "metadata": {},
     "output_type": "execute_result"
    }
   ],
   "source": [
    "##Creating a dataframe to show coefficients, odds and probabilities \n",
    "d = []\n",
    "for n in range(len(X.columns)):\n",
    "    d.append({'Variable': X.columns[n], \n",
    "              'coefs/log odds': gs.best_estimator_.coef_.item(n), #lm.coef_.item(n),\n",
    "              #'odds':np.exp(lm.coef_.item(n)),\n",
    "              #'probability if X=1':np.exp(lm.intercept_.item(0)+lm.coef_.item(n)*1)/(1+np.exp(lm.intercept_.item(0)+lm.coef_.item(n)*1)),\n",
    "\n",
    "             })\n",
    "\n",
    "pd.options.display.float_format = '{:f}'.format # removing scientific notation\n",
    "df_c= pd.DataFrame(d)\n",
    "print ('Intercept: ',gs.best_estimator_.intercept_)\n",
    "df_c"
   ]
  },
  {
   "cell_type": "markdown",
   "metadata": {},
   "source": [
    "The coefficients above are expressed in Log Odds.  Each unit increase in X (predictor) results in a change to the log odds by the value of the coefficient. If the coefficient is positive then increasing X will result in an increasing probability, if the coefficient is negative then increasing X will result in a decreasing p(X).  \n",
    "\n",
    "If the coefficient for title_Miss is 0.762626 - the value is positive so if you are a Miss then the probability of legating will increase; title_Miss is a binary 1 or 0 flag, if you are a Miss the log odds of leaving a legacy increase by 0.76.\n",
    "\n",
    "Converting odds to probability  = p(X)/ 1-p(X)\n",
    "\n",
    "Probability of leaving a legacy if you are a Miss =   \n",
    "(this is for illustration only, as the coefficient for Miss must be used in the context of all other coefficients)   \n",
    "p(Legacy) = exp(intercept+coef x 1)   / 1+exp(intercept+coef x 1)  \n",
    "        \n",
    "p(Legacy) where *Miss =1*  \n",
    "= exp(-4.48357778 + 0.762626 x 1)/1+exp(-4.48357778 + 0.762626 x 1)   \n",
    "= 0.023639  \n",
    "= **2% chance ** that the supporter will leave a legacy.\n",
    "\n",
    "p(Legacy) where *Miss =0*  \n",
    "= exp(-4.48357778 + 0.762626 x 0)/1+exp(-4.48357778 + 0.762626 x 0)   \n",
    "= 0.011166831  \n",
    "= ** 1% chance ** that the supporter will leave a legacy.\n"
   ]
  },
  {
   "cell_type": "markdown",
   "metadata": {},
   "source": [
    "*NB these notes were written on the first iteration of the model/ features, so the coeficients will have changed. *\n",
    "\n",
    "The **pledged** flag has the most sizeable and positive effect on the likelihood of legacy with a log odds of 3.46, after following the above formula this converts to 26% chance of leaving a legacy (with all other variables considered).  The  **Enquiry** status has log odds of 0.95 which broadly doubles the chance of leaving a legacy from 1.12% to 2.84%.  \n",
    "\n",
    "The statistically significant **Mosaic groups (I,K & M)** have a negative impact on the probability.  I = Family Basics, K = Municipal Challenge, L = Vintage Value (Elderly renters, social housing etc), nb these groups are all \"not in target\".   It also makes sense that the groups with a negative relationship with legacy giving are the ones which are significant, because the bulk of supporters don't leave a legacy and therefore the relationship is easier to prove.  NB I & M have since be removed as they aren't predictive. "
   ]
  },
  {
   "cell_type": "markdown",
   "metadata": {},
   "source": [
    "** ROC ** "
   ]
  },
  {
   "cell_type": "code",
   "execution_count": 37,
   "metadata": {
    "collapsed": false
   },
   "outputs": [
    {
     "data": {
      "text/plain": [
       "[<matplotlib.lines.Line2D at 0x114c2048>]"
      ]
     },
     "execution_count": 37,
     "metadata": {},
     "output_type": "execute_result"
    },
    {
     "data": {
      "image/png": "[encoded data removed]",
      "text/plain": [
       "<matplotlib.figure.Figure at 0x1149f048>"
      ]
     },
     "metadata": {},
     "output_type": "display_data"
    }
   ],
   "source": [
    "probas = gs.predict_proba(test[X.columns]) ## probability estimates (true and false) applied to the test data.\n",
    "\n",
    "plt.plot(roc_curve(test.legatorflag, probas[:,1])[0], roc_curve(test.legatorflag, probas[:,1])[1])"
   ]
  },
  {
   "cell_type": "markdown",
   "metadata": {},
   "source": [
    "** Default Confusion Matrix (threshold at 0.5)**  \n",
    "\n",
    "|Threshold \t|fpr| \ttpr|\n",
    "|---|---|---|\n",
    "|0.501|\t0.147|\t0.563|  \n",
    "\n",
    "The 0.5 threshold captures 14.7% of false positives and 56.3% of legators - at this threshold we are capturing too few of the legators.  \n",
    "\n",
    "As the threshold is lowered the accuracy will drop too - but in this context it is better to contact false positives than not contact future legators."
   ]
  },
  {
   "cell_type": "code",
   "execution_count": 38,
   "metadata": {
    "collapsed": false
   },
   "outputs": [
    {
     "name": "stdout",
     "output_type": "stream",
     "text": [
      "accuracy 0.822804215905\n"
     ]
    },
    {
     "data": {
      "text/html": [
       "<div>\n",
       "<table border=\"1\" class=\"dataframe\">\n",
       "  <thead>\n",
       "    <tr style=\"text-align: right;\">\n",
       "      <th>pred</th>\n",
       "      <th>0</th>\n",
       "      <th>1</th>\n",
       "    </tr>\n",
       "    <tr>\n",
       "      <th>legatorflag</th>\n",
       "      <th></th>\n",
       "      <th></th>\n",
       "    </tr>\n",
       "  </thead>\n",
       "  <tbody>\n",
       "    <tr>\n",
       "      <th>0</th>\n",
       "      <td>12710</td>\n",
       "      <td>2667</td>\n",
       "    </tr>\n",
       "    <tr>\n",
       "      <th>1</th>\n",
       "      <td>107</td>\n",
       "      <td>171</td>\n",
       "    </tr>\n",
       "  </tbody>\n",
       "</table>\n",
       "</div>"
      ],
      "text/plain": [
       "pred             0     1\n",
       "legatorflag             \n",
       "0            12710  2667\n",
       "1              107   171"
      ]
     },
     "execution_count": 38,
     "metadata": {},
     "output_type": "execute_result"
    }
   ],
   "source": [
    "correct = test[test.pred== test.legatorflag].count().pred                            \n",
    "total = test.count().pred\n",
    "\n",
    "print('accuracy', correct/ total)\n",
    "\n",
    "pd.crosstab(test.legatorflag,test.pred) "
   ]
  },
  {
   "cell_type": "code",
   "execution_count": 70,
   "metadata": {
    "collapsed": false
   },
   "outputs": [],
   "source": [
    "roc= pd.DataFrame(roc_curve(test.legatorflag, test.prob_leg)[0]) #tpr\n",
    "roc = roc.rename(index=str,columns={0:'fpr'})\n",
    "roc['tpr']= roc_curve(test.legatorflag, test.prob_leg)[1] #tpr\n",
    "roc['threshold']= roc_curve(test.legatorflag, test.prob_leg)[2] #threshold"
   ]
  },
  {
   "cell_type": "code",
   "execution_count": 71,
   "metadata": {
    "collapsed": true
   },
   "outputs": [],
   "source": [
    "roc.to_csv('C:/Users/BeckyC/Desktop/roc.csv', sep=',') #nb needs to be forward slash"
   ]
  },
  {
   "cell_type": "markdown",
   "metadata": {},
   "source": [
    "I exported the roc data above and built the curve in excel, so that I could read off the threshold at the elbow of the curve.  \n",
    "\n",
    "Iterated through the following thresholds to evaluate accuracy:  \n",
    "\n",
    "|**Threshold**| \tfpr| \ttpr|\n",
    "|---|---|---|---|\n",
    "|0.610805324|\t0.067147217|\t0.4609375|\n",
    "|0.382833058|\t0.479771414\t|0.828125|\n",
    "|0.401797675|0.316|\t0.672|\n",
    "\n",
    "\n"
   ]
  },
  {
   "cell_type": "code",
   "execution_count": 76,
   "metadata": {
    "collapsed": false
   },
   "outputs": [
    {
     "name": "stdout",
     "output_type": "stream",
     "text": [
      "accuracy 0.778792717981\n"
     ]
    },
    {
     "data": {
      "text/html": [
       "<div>\n",
       "<table border=\"1\" class=\"dataframe\">\n",
       "  <thead>\n",
       "    <tr style=\"text-align: right;\">\n",
       "      <th>prob_leg</th>\n",
       "      <th>0</th>\n",
       "      <th>1</th>\n",
       "    </tr>\n",
       "    <tr>\n",
       "      <th>legatorflag</th>\n",
       "      <th></th>\n",
       "      <th></th>\n",
       "    </tr>\n",
       "  </thead>\n",
       "  <tbody>\n",
       "    <tr>\n",
       "      <th>0</th>\n",
       "      <td>12012</td>\n",
       "      <td>3365</td>\n",
       "    </tr>\n",
       "    <tr>\n",
       "      <th>1</th>\n",
       "      <td>98</td>\n",
       "      <td>180</td>\n",
       "    </tr>\n",
       "  </tbody>\n",
       "</table>\n",
       "</div>"
      ],
      "text/plain": [
       "prob_leg         0     1\n",
       "legatorflag             \n",
       "0            12012  3365\n",
       "1               98   180"
      ]
     },
     "execution_count": 76,
     "metadata": {},
     "output_type": "execute_result"
    }
   ],
   "source": [
    "new_pred = test.prob_leg.apply(lambda x: 1 if x >0.456910045211461 else 0)\n",
    "\n",
    "# correct = test[test.prob_leg.apply(lambda x: 1 if x >0.610805324 else 0)== test.legatorflag].count().pred    \n",
    "correct = test[new_pred== test.legatorflag].count().pred                            \n",
    "total = test.count().pred\n",
    "\n",
    "print('accuracy', correct/ total )\n",
    "\n",
    "pd.crosstab(test.legatorflag,new_pred) \n",
    "\n",
    "# df['donationgiftaid_flag'] = df.giftaid.apply(lambda x: 1 if x > 0 else 0) "
   ]
  },
  {
   "cell_type": "code",
   "execution_count": 57,
   "metadata": {
    "collapsed": false
   },
   "outputs": [
    {
     "name": "stdout",
     "output_type": "stream",
     "text": [
      "             precision    recall  f1-score   support\n",
      "\n",
      "          0       0.68      0.99      0.81     10627\n",
      "          1       0.67      0.03      0.07      5028\n",
      "\n",
      "avg / total       0.68      0.68      0.57     15655\n",
      "\n"
     ]
    }
   ],
   "source": [
    "from sklearn.metrics import classification_report\n",
    "report = classification_report(new_pred, test.legatorflag)\n",
    "print(report)"
   ]
  },
  {
   "cell_type": "code",
   "execution_count": 43,
   "metadata": {
    "collapsed": false
   },
   "outputs": [
    {
     "data": {
      "text/plain": [
       "55487   0.378117\n",
       "19141   0.406648\n",
       "731     0.406648\n",
       "50584   0.425916\n",
       "8313    0.695716\n",
       "Name: prob_leg, dtype: float64"
      ]
     },
     "execution_count": 43,
     "metadata": {},
     "output_type": "execute_result"
    }
   ],
   "source": [
    "test['prob_leg'].head()"
   ]
  },
  {
   "cell_type": "markdown",
   "metadata": {},
   "source": [
    "Interpreting classification report   \n",
    "\n",
    "**Precision**  = Models ability to identify legators - 173 of 257 (68%) correctly identified as legacies. If recall is low, then you are missing a number of true cases.  \n",
    "**Recall**  = Actual legacies (173) of all of those predicted legacy (4,885) = 3%.  This can also be interpreted as the legacy rate, recall that at the beginning of this analysis the \"organic\" legacy rate is 1.7% - so the model has effectively doubled this.\n"
   ]
  },
  {
   "cell_type": "markdown",
   "metadata": {},
   "source": [
    "## Score Stability \n"
   ]
  },
  {
   "cell_type": "code",
   "execution_count": 77,
   "metadata": {
    "collapsed": false
   },
   "outputs": [
    {
     "data": {
      "image/png": "[encoded data removed]",
      "text/plain": [
       "<matplotlib.figure.Figure at 0xb2969b0>"
      ]
     },
     "metadata": {},
     "output_type": "display_data"
    },
    {
     "name": "stdout",
     "output_type": "stream",
     "text": [
      "legators 278\n",
      "non-legators 15377\n"
     ]
    }
   ],
   "source": [
    "plt.hist(test['prob_leg'][test.legatorflag==1], label = 'legator', normed=True, bins=10)\n",
    "plt.hist(test['prob_leg'][test.legatorflag==0], label = 'non-legator',alpha=0.6, normed=True, bins=10)\n",
    "plt.title('Test data set')\n",
    "plt.legend()\n",
    "plt.show()\n",
    "\n",
    "print('legators', test['legatorflag'][test.legatorflag==1].count())\n",
    "print('non-legators', test['legatorflag'][test.legatorflag==0].count())\n"
   ]
  },
  {
   "cell_type": "code",
   "execution_count": 78,
   "metadata": {
    "collapsed": false
   },
   "outputs": [
    {
     "data": {
      "image/png": "[encoded data removed]",
      "text/plain": [
       "<matplotlib.figure.Figure at 0x1149f7b8>"
      ]
     },
     "metadata": {},
     "output_type": "display_data"
    },
    {
     "name": "stdout",
     "output_type": "stream",
     "text": [
      "legators 1047\n",
      "non-legators 61569\n"
     ]
    }
   ],
   "source": [
    "plt. \n",
    "\n",
    "plt.hist(train['prob_leg'][train.legatorflag==1], label = 'legator', normed=True, bins=10)\n",
    "plt.hist(train['prob_leg'][train.legatorflag==0], label = 'non-legator',alpha=0.6, normed=True, bins=10)\n",
    "plt.title('Train data set')\n",
    "plt.legend()\n",
    "plt.show()\n",
    "\n",
    "print('legators', train['legatorflag'][train.legatorflag==1].count())\n",
    "print('non-legators', train['legatorflag'][train.legatorflag==0].count())\n"
   ]
  },
  {
   "cell_type": "markdown",
   "metadata": {},
   "source": [
    "The distribution of legacy probability is comparable across the train and test set.  \n",
    "\n",
    "The distribution also highlights some flaws on the model - ideally most of your population should sit in a low probability bin, but most of these samples sit within 30-40% probability.  Over 50% probability is disportionately populated by the true/legator class which is reassuring."
   ]
  }
 ],
 "metadata": {
  "kernelspec": {
   "display_name": "Python 3",
   "language": "python",
   "name": "python3"
  },
  "language_info": {
   "codemirror_mode": {
    "name": "ipython",
    "version": 3
   },
   "file_extension": ".py",
   "mimetype": "text/x-python",
   "name": "python",
   "nbconvert_exporter": "python",
   "pygments_lexer": "ipython3",
   "version": "3.6.0"
  }
 },
 "nbformat": 4,
 "nbformat_minor": 2
}
